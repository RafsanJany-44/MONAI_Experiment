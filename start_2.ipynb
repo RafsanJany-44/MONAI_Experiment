{
 "cells": [
  {
   "cell_type": "markdown",
   "id": "d59a0e93-2ff9-4965-a676-bd18f68c59e3",
   "metadata": {},
   "source": [
    "#40 Slice"
   ]
  },
  {
   "cell_type": "code",
   "execution_count": 41,
   "id": "4a03daed-0783-4328-a2ca-ef34f99b804a",
   "metadata": {},
   "outputs": [],
   "source": [
    "#in_path = \"C:/Users/RAZER/Downloads/Task09_Spleen/dicm_files/labels\"\n",
    "\n",
    "#out_path = \"C:/Users/RAZER/Downloads/Task09_Spleen/dicm_groups/labels\"\n",
    "\n",
    "in_path = \"C:/Users/RAZER/Downloads/Task09_Spleen/dicm_files/images\"\n",
    "out_path = \"C:/Users/RAZER/Downloads/Task09_Spleen/dicm_groups/images\""
   ]
  },
  {
   "cell_type": "code",
   "execution_count": null,
   "id": "6257ce04-2c27-488a-b655-eb892a860068",
   "metadata": {},
   "outputs": [],
   "source": [
    "!pip install glob2"
   ]
  },
  {
   "cell_type": "markdown",
   "id": "7179c4b1-5d09-4b58-a794-6195ba762355",
   "metadata": {},
   "source": [
    "to moving the files"
   ]
  },
  {
   "cell_type": "code",
   "execution_count": null,
   "id": "13a8834b-ca25-4742-9a5e-d2acec112f98",
   "metadata": {},
   "outputs": [],
   "source": [
    "!pip install pytest-shutil                    "
   ]
  },
  {
   "cell_type": "code",
   "execution_count": 30,
   "id": "b0036782-929d-4672-a1a8-99c433510492",
   "metadata": {},
   "outputs": [],
   "source": [
    "from glob import glob\n",
    "import shutil\n",
    "import os"
   ]
  },
  {
   "cell_type": "code",
   "execution_count": 37,
   "id": "342f6694-a372-4acf-840d-a249bd93ffaf",
   "metadata": {},
   "outputs": [],
   "source": [
    "\n",
    "def move_files(path, count):\n",
    "    for i in glob(path + \"/*\"):\n",
    "        i_name = os.path.basename(os.path.normpath(i))\n",
    "        num_of_folders = int(len(glob(i+\"/*\"))/count)\n",
    "\n",
    "        for j in range(num_of_folders):\n",
    "            out_new = os.path.join(out_path, i_name+\"_\"+str(j))\n",
    "            os.mkdir(out_new)\n",
    "\n",
    "            for k, file in enumerate(glob(i+\"/*\")):\n",
    "                if k ==40+1:\n",
    "                    break\n",
    "                shutil.move(file, out_new)"
   ]
  },
  {
   "cell_type": "code",
   "execution_count": 50,
   "id": "2bdc9a22-d64d-4651-a312-e4675d31921e",
   "metadata": {},
   "outputs": [
    {
     "name": "stdout",
     "output_type": "stream",
     "text": [
      "90\n",
      "2\n",
      "40\n",
      "1\n"
     ]
    }
   ],
   "source": [
    "\n",
    "def hello(path_in, path_out, count):\n",
    "    for i in glob(path + \"/*\"):\n",
    "        i_name = os.path.basename(os.path.normpath(i))\n",
    "        num_of_folders = int(len(glob(i+\"/*\"))/count)\n",
    "        print(len(glob(i+\"/*\")))\n",
    "        print(num_of_folders)\n",
    "\n",
    "        for j in range(num_of_folders):\n",
    "            out_new = os.path.join(path_out, i_name+\"_\"+str(j))\n",
    "            os.mkdir(out_new)\n",
    "\n",
    "            for k, file in enumerate(glob(i+\"/*\")):\n",
    "                if k ==count+1:\n",
    "                    break\n",
    "                shutil.move(file, out_new)"
   ]
  },
  {
   "cell_type": "code",
   "execution_count": 107,
   "id": "c44fb605-a90a-418f-9fb2-615337c648fc",
   "metadata": {},
   "outputs": [
    {
     "name": "stdout",
     "output_type": "stream",
     "text": [
      "Total Files In Input_File(C:/Users/RAZER/Desktop/images\\img_2): 90\n",
      "Total Files In Output directory(C:/Users/RAZER/Desktop/new_images\\img_2_1) : 40\n",
      "Total Files In Output directory(C:/Users/RAZER/Desktop/new_images\\img_2_2) : 40\n",
      "----------------------------------------------------------------\n",
      "Total Files In Input_File(C:/Users/RAZER/Desktop/images\\img_3): 40\n",
      "Total Files In Output directory(C:/Users/RAZER/Desktop/new_images\\img_3_1) : 40\n",
      "----------------------------------------------------------------\n"
     ]
    }
   ],
   "source": [
    "path = \"C:/Users/RAZER/Desktop/images\"\n",
    "path2 = \"C:/Users/RAZER/Desktop/new_images\"\n",
    "\n",
    "def mod(path_in,path_out,count = 0):\n",
    "    if count <=0:                                                            #calculating least file count\n",
    "        size_count = []\n",
    "        for i in glob(path+\"/*\"):\n",
    "            size_count.append(len(glob(i+\"/*\")))\n",
    "        count = min(size_count)\n",
    "    \n",
    "\n",
    "    for i in glob(path_in + \"/*\"):\n",
    "        i_name = os.path.basename(os.path.normpath(i))                       \n",
    "        num_of_folders = int(len(glob(i+\"/*\"))/count)                       #calculating number of folders\n",
    "        print('Total Files In Input_File('+i+\"): \"+str(len(glob(i+\"/*\"))))\n",
    "\n",
    "        for j in range(1,num_of_folders+1):                                 #making new directories\n",
    "            out_new_dir = os.path.join(path_out, i_name+\"_\"+str(j))\n",
    "            os.mkdir(out_new_dir)\n",
    "            \n",
    "            k=1\n",
    "            for file in glob(i+\"/*\"):\n",
    "                if k ==count+1:\n",
    "                    break\n",
    "                shutil.copy(file, out_new_dir)\n",
    "                #shutil.move(file,out_new_dir)\n",
    "                k+=1\n",
    "            print(\"Total Files In Output directory(\"+out_new_dir+\") :\",k-1)\n",
    "        print(\"----------------------------------------------------------------\")\n",
    "\n",
    "mod(path,path2)\n"
   ]
  },
  {
   "cell_type": "code",
   "execution_count": 84,
   "id": "ec10f0e9-953b-443b-83a5-fab8c9fd6565",
   "metadata": {},
   "outputs": [
    {
     "name": "stdout",
     "output_type": "stream",
     "text": [
      "C\n",
      ":\n",
      "\n",
      "U\n",
      "s\n",
      "e\n",
      "r\n",
      "s\n",
      "\n",
      "R\n",
      "A\n",
      "Z\n",
      "E\n",
      "R\n",
      "\n",
      "D\n",
      "e\n",
      "s\n",
      "k\n",
      "t\n",
      "o\n",
      "p\n",
      "\n",
      "i\n",
      "m\n",
      "a\n",
      "g\n",
      "e\n",
      "s\n",
      "\n",
      "i\n",
      "m\n",
      "g\n",
      "_\n",
      "2\n",
      "C\n",
      ":\n",
      "\n",
      "U\n",
      "s\n",
      "e\n",
      "r\n",
      "s\n",
      "\n",
      "R\n",
      "A\n",
      "Z\n",
      "E\n",
      "R\n",
      "\n",
      "D\n",
      "e\n",
      "s\n",
      "k\n",
      "t\n",
      "o\n",
      "p\n",
      "\n",
      "i\n",
      "m\n",
      "a\n",
      "g\n",
      "e\n",
      "s\n",
      "\n",
      "i\n",
      "m\n",
      "g\n",
      "_\n",
      "3\n"
     ]
    }
   ],
   "source": [
    "\n",
    "for i in glob(path+\"/*\"):\n",
    "    for k in i:\n",
    "        i_name = os.path.basename(os.path.normpath(k))\n",
    "        print(i_name)"
   ]
  },
  {
   "cell_type": "code",
   "execution_count": null,
   "id": "5d1b3df1-222b-410a-8464-8e3db50fefec",
   "metadata": {},
   "outputs": [],
   "source": []
  }
 ],
 "metadata": {
  "kernelspec": {
   "display_name": "Python 3 (ipykernel)",
   "language": "python",
   "name": "python3"
  },
  "language_info": {
   "codemirror_mode": {
    "name": "ipython",
    "version": 3
   },
   "file_extension": ".py",
   "mimetype": "text/x-python",
   "name": "python",
   "nbconvert_exporter": "python",
   "pygments_lexer": "ipython3",
   "version": "3.8.16"
  }
 },
 "nbformat": 4,
 "nbformat_minor": 5
}
