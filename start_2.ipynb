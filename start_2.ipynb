{
 "cells": [
  {
   "cell_type": "markdown",
   "id": "d59a0e93-2ff9-4965-a676-bd18f68c59e3",
   "metadata": {},
   "source": [
    "#40 Slice"
   ]
  },
  {
   "cell_type": "code",
   "execution_count": 41,
   "id": "4a03daed-0783-4328-a2ca-ef34f99b804a",
   "metadata": {},
   "outputs": [],
   "source": [
    "#in_path = \"C:/Users/RAZER/Downloads/Task09_Spleen/dicm_files/labels\"\n",
    "\n",
    "#out_path = \"C:/Users/RAZER/Downloads/Task09_Spleen/dicm_groups/labels\"\n",
    "\n",
    "in_path = \"C:/Users/RAZER/Downloads/Task09_Spleen/dicm_files/images\"\n",
    "out_path = \"C:/Users/RAZER/Downloads/Task09_Spleen/dicm_groups/images\""
   ]
  },
  {
   "cell_type": "code",
   "execution_count": null,
   "id": "6257ce04-2c27-488a-b655-eb892a860068",
   "metadata": {},
   "outputs": [],
   "source": [
    "!pip install glob2"
   ]
  },
  {
   "cell_type": "markdown",
   "id": "7179c4b1-5d09-4b58-a794-6195ba762355",
   "metadata": {},
   "source": [
    "to moving the files"
   ]
  },
  {
   "cell_type": "code",
   "execution_count": null,
   "id": "13a8834b-ca25-4742-9a5e-d2acec112f98",
   "metadata": {},
   "outputs": [],
   "source": [
    "!pip install pytest-shutil                    "
   ]
  },
  {
   "cell_type": "code",
   "execution_count": 30,
   "id": "b0036782-929d-4672-a1a8-99c433510492",
   "metadata": {},
   "outputs": [],
   "source": [
    "from glob import glob\n",
    "import shutil\n",
    "import os"
   ]
  },
  {
   "cell_type": "code",
   "execution_count": 113,
   "id": "c44fb605-a90a-418f-9fb2-615337c648fc",
   "metadata": {},
   "outputs": [],
   "source": [
    "\n",
    "\n",
    "def move_file(path_in,path_out,move = False,count = 0):\n",
    "    if count <=0:                                                            #calculating least file count\n",
    "        size_count = []\n",
    "        for i in glob(path+\"/*\"):\n",
    "            size_count.append(len(glob(i+\"/*\")))\n",
    "        count = min(size_count)\n",
    "    \n",
    "\n",
    "    for i in glob(path_in + \"/*\"):\n",
    "        i_name = os.path.basename(os.path.normpath(i))                       \n",
    "        num_of_folders = int(len(glob(i+\"/*\"))/count)                       #calculating number of folders\n",
    "        print('Total Files In Input_File('+i+\"): \"+str(len(glob(i+\"/*\"))))\n",
    "\n",
    "        for j in range(1,num_of_folders+1):                                 #making new directories\n",
    "            out_new_dir = os.path.join(path_out, i_name+\"_\"+str(j))\n",
    "            os.mkdir(out_new_dir)\n",
    "            \n",
    "            k=1\n",
    "            for file in glob(i+\"/*\"):\n",
    "                if k ==count+1:\n",
    "                    break\n",
    "                if move == False:\n",
    "                    shutil.copy(file, out_new_dir)\n",
    "                else:\n",
    "                    shutil.move(file,out_new_dir)\n",
    "                k+=1\n",
    "            print(\"Total Files In Output directory(\"+out_new_dir+\") :\",k-1)\n",
    "        print(\"----------------------------------------------------------------\")\n",
    "\n",
    "\n"
   ]
  },
  {
   "cell_type": "code",
   "execution_count": 115,
   "id": "5d1b3df1-222b-410a-8464-8e3db50fefec",
   "metadata": {},
   "outputs": [
    {
     "name": "stdout",
     "output_type": "stream",
     "text": [
      "Total Files In Input_File(C:/Users/RAZER/Downloads/Task09_Spleen/lets_work/dicm_files/images\\img_2): 90\n",
      "Total Files In Output directory(C:/Users/RAZER/Downloads/Task09_Spleen/lets_work/dicm_groups/images\\img_2_1) : 40\n",
      "Total Files In Output directory(C:/Users/RAZER/Downloads/Task09_Spleen/lets_work/dicm_groups/images\\img_2_2) : 40\n",
      "----------------------------------------------------------------\n",
      "Total Files In Input_File(C:/Users/RAZER/Downloads/Task09_Spleen/lets_work/dicm_files/images\\img_3): 40\n",
      "Total Files In Output directory(C:/Users/RAZER/Downloads/Task09_Spleen/lets_work/dicm_groups/images\\img_3_1) : 40\n",
      "----------------------------------------------------------------\n"
     ]
    }
   ],
   "source": [
    "path = \"C:/Users/RAZER/Downloads/Task09_Spleen/lets_work/dicm_files/images\"\n",
    "path2 = \"C:/Users/RAZER/Downloads/Task09_Spleen/lets_work/dicm_groups/images\"\n",
    "\n",
    "move_file(path,path2,True)"
   ]
  },
  {
   "cell_type": "markdown",
   "id": "d48bbcd0-825d-4d31-a178-018a3bccd1bc",
   "metadata": {},
   "source": [
    "#Convert dicom to nifties"
   ]
  },
  {
   "cell_type": "code",
   "execution_count": null,
   "id": "90fe6655-de47-4c57-98e9-64e08504092d",
   "metadata": {},
   "outputs": [],
   "source": [
    "!pip install dicom2nifti"
   ]
  },
  {
   "cell_type": "code",
   "execution_count": 128,
   "id": "e02b098a-1b21-4744-86fd-907519103d0b",
   "metadata": {},
   "outputs": [],
   "source": [
    "import dicom2nifti\n",
    "\n",
    "\n",
    "def dicom_to_nifty(path_in, path_out):\n",
    "\n",
    "    file_list = glob(path_in)\n",
    "    for i in file_list:\n",
    "        i_name = os.path.basename(os.path.normpath(i))\n",
    "        dicom2nifti.dicom_series_to_nifti(i,os.path.join(path_out, i_name + \".nii.gz\"))\n"
   ]
  },
  {
   "cell_type": "code",
   "execution_count": 133,
   "id": "c062cc03-5503-4279-974c-369b645b9b0d",
   "metadata": {},
   "outputs": [],
   "source": [
    "in_path_images = \"C:/Users/RAZER/Downloads/Task09_Spleen/lets_work/dicm_groups/images/*\"\n",
    "\n",
    "in_path_labels = \"C:/Users/RAZER/Downloads/Task09_Spleen/lets_work/dicm_groups/labels/*\"\n",
    "\n",
    "\n",
    "out_path_images = \"C:/Users/RAZER/Downloads/Task09_Spleen/lets_work/niftis_files/images\"\n",
    "\n",
    "out_path_labels = \"C:/Users/RAZER/Downloads/Task09_Spleen/lets_work/niftis_files/labels\"\n",
    "\n",
    "\n",
    "dicom_to_nifty(in_path_labels,out_path_labels)\n",
    "dicom_to_nifty(in_path_images,out_path_images)\n"
   ]
  },
  {
   "cell_type": "code",
   "execution_count": null,
   "id": "21751b92-4308-4a69-83ef-72f80e9ce353",
   "metadata": {},
   "outputs": [],
   "source": []
  },
  {
   "cell_type": "code",
   "execution_count": null,
   "id": "7d2acea3-265e-4df6-9e3f-c6c6584609eb",
   "metadata": {},
   "outputs": [],
   "source": []
  }
 ],
 "metadata": {
  "kernelspec": {
   "display_name": "Python 3 (ipykernel)",
   "language": "python",
   "name": "python3"
  },
  "language_info": {
   "codemirror_mode": {
    "name": "ipython",
    "version": 3
   },
   "file_extension": ".py",
   "mimetype": "text/x-python",
   "name": "python",
   "nbconvert_exporter": "python",
   "pygments_lexer": "ipython3",
   "version": "3.8.16"
  }
 },
 "nbformat": 4,
 "nbformat_minor": 5
}
