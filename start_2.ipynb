{
 "cells": [
  {
   "cell_type": "markdown",
   "id": "d59a0e93-2ff9-4965-a676-bd18f68c59e3",
   "metadata": {},
   "source": [
    "#40 Slice"
   ]
  },
  {
   "cell_type": "code",
   "execution_count": 33,
   "id": "4a03daed-0783-4328-a2ca-ef34f99b804a",
   "metadata": {},
   "outputs": [],
   "source": [
    "in_path = \"C:/Users/RAZER/Downloads/Task09_Spleen/dicm_files/labels\"\n",
    "\n",
    "out_path = \"C:/Users/RAZER/Downloads/Task09_Spleen/dicm_groups/labels\""
   ]
  },
  {
   "cell_type": "code",
   "execution_count": null,
   "id": "6257ce04-2c27-488a-b655-eb892a860068",
   "metadata": {},
   "outputs": [],
   "source": [
    "!pip install glob2"
   ]
  },
  {
   "cell_type": "markdown",
   "id": "7179c4b1-5d09-4b58-a794-6195ba762355",
   "metadata": {},
   "source": [
    "to moving the files"
   ]
  },
  {
   "cell_type": "code",
   "execution_count": null,
   "id": "13a8834b-ca25-4742-9a5e-d2acec112f98",
   "metadata": {},
   "outputs": [],
   "source": [
    "!pip install pytest-shutil                    "
   ]
  },
  {
   "cell_type": "code",
   "execution_count": 30,
   "id": "b0036782-929d-4672-a1a8-99c433510492",
   "metadata": {},
   "outputs": [],
   "source": [
    "from glob import glob\n",
    "import shutil\n",
    "import os"
   ]
  },
  {
   "cell_type": "code",
   "execution_count": 27,
   "id": "342f6694-a372-4acf-840d-a249bd93ffaf",
   "metadata": {},
   "outputs": [],
   "source": [
    "for i in glob(in_path + \"/*\"):\n",
    "    i_name = os.path.basename(os.path.normpath(i))\n",
    "    num_of_folders = int(len(glob(i+\"/*\"))/40)\n",
    "    \n",
    "    for j in range(num_of_folders):\n",
    "        out_new = os.path.join(out_path, i_name+\"_\"+str(j))\n",
    "        os.mkdir(out_new)\n",
    "    \n",
    "        for k, file in enumerate(glob(i+\"/*\")):\n",
    "            if k ==40+1:\n",
    "                break\n",
    "            shutil.move(file, out_new)"
   ]
  },
  {
   "cell_type": "code",
   "execution_count": 34,
   "id": "2bdc9a22-d64d-4651-a312-e4675d31921e",
   "metadata": {},
   "outputs": [
    {
     "name": "stdout",
     "output_type": "stream",
     "text": [
      "hello world\n"
     ]
    }
   ],
   "source": [
    "print(\"hello world\")"
   ]
  },
  {
   "cell_type": "code",
   "execution_count": null,
   "id": "c44fb605-a90a-418f-9fb2-615337c648fc",
   "metadata": {},
   "outputs": [],
   "source": []
  },
  {
   "cell_type": "code",
   "execution_count": null,
   "id": "ec10f0e9-953b-443b-83a5-fab8c9fd6565",
   "metadata": {},
   "outputs": [],
   "source": []
  }
 ],
 "metadata": {
  "kernelspec": {
   "display_name": "Python 3 (ipykernel)",
   "language": "python",
   "name": "python3"
  },
  "language_info": {
   "codemirror_mode": {
    "name": "ipython",
    "version": 3
   },
   "file_extension": ".py",
   "mimetype": "text/x-python",
   "name": "python",
   "nbconvert_exporter": "python",
   "pygments_lexer": "ipython3",
   "version": "3.8.16"
  }
 },
 "nbformat": 4,
 "nbformat_minor": 5
}
