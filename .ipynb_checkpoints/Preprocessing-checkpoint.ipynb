{
 "cells": [
  {
   "cell_type": "code",
   "execution_count": 1,
   "id": "714d0587-d984-4108-a898-467751b8d0cf",
   "metadata": {},
   "outputs": [
    {
     "name": "stdout",
     "output_type": "stream",
     "text": [
      "Requirement already satisfied: monai in c:\\users\\razer\\anaconda3\\envs\\mamba\\lib\\site-packages (0.6.0)\n",
      "Requirement already satisfied: torch>=1.5 in c:\\users\\razer\\anaconda3\\envs\\mamba\\lib\\site-packages (from monai) (1.13.1)\n",
      "Requirement already satisfied: numpy>=1.17 in c:\\users\\razer\\anaconda3\\envs\\mamba\\lib\\site-packages (from monai) (1.24.2)\n",
      "Requirement already satisfied: typing-extensions in c:\\users\\razer\\anaconda3\\envs\\mamba\\lib\\site-packages (from torch>=1.5->monai) (4.4.0)\n"
     ]
    }
   ],
   "source": [
    "!pip install monai"
   ]
  },
  {
   "cell_type": "code",
   "execution_count": 2,
   "id": "79dbfdb2-6af3-4819-8c91-660e50014a45",
   "metadata": {},
   "outputs": [
    {
     "name": "stdout",
     "output_type": "stream",
     "text": [
      "Requirement already satisfied: glob2 in c:\\users\\razer\\anaconda3\\envs\\mamba\\lib\\site-packages (0.7)\n"
     ]
    }
   ],
   "source": [
    "!pip install glob2"
   ]
  },
  {
   "cell_type": "code",
   "execution_count": 36,
   "id": "f95cc1e1-6a24-4ef4-a7c7-ed6c402af6bc",
   "metadata": {},
   "outputs": [],
   "source": [
    "import os\n",
    "from glob import glob\n",
    "from tqdm.notebook import tqdm"
   ]
  },
  {
   "cell_type": "code",
   "execution_count": 8,
   "id": "bbf59280-9e30-4ca2-96bf-263811791e95",
   "metadata": {},
   "outputs": [],
   "source": [
    "data_dir = \"C:/Users/RAZER/Desktop/Task09_Spleen/Task09_Spleen\"\n",
    "\n",
    "train_images = sorted(glob(os.path.join(data_dir, 'imagesTr' ,\"*.nii.gz\")))\n",
    "test_images = sorted(glob(os.path.join(data_dir, 'imagesTs',\"*.nii.gz\")))\n",
    "\n",
    "train_labels = sorted(glob(os.path.join(data_dir, 'labelsTr',\"*.nii.gz\")))\n",
    "test_labels = sorted(glob(os.path.join(data_dir, 'labelsTs',\"*.nii.gz\")))"
   ]
  },
  {
   "cell_type": "code",
   "execution_count": 48,
   "id": "21825459-757f-4e16-adc0-6514d9df79ac",
   "metadata": {},
   "outputs": [],
   "source": [
    "\n",
    "\n",
    "def train_test_list(images,labels):\n",
    "    f=[]\n",
    "    if len(images)!=len(labels):\n",
    "        return \"Invalid Length\"\n",
    "    \n",
    "    for i in tqdm(range(len(images))):\n",
    "                   d = {'image': images[i],\"label\":labels[i]}\n",
    "                   f.append(d)\n",
    "    return f\n",
    "\n",
    "\n",
    "def check_train_test_list(files):\n",
    "    for i in tqdm(files):\n",
    "        img = os.path.basename(os.path.normpath(i['image']))\n",
    "        lab = os.path.basename(os.path.normpath(i['label'])) \n",
    "        if img==lab:\n",
    "            print('OK')\n",
    "        else:\n",
    "            print(\"Not OK\", i)\n",
    "            break\n",
    "\n",
    "\n",
    "\n"
   ]
  },
  {
   "cell_type": "code",
   "execution_count": null,
   "id": "91f8e459-47c9-419c-8b8b-158810ac0b71",
   "metadata": {},
   "outputs": [],
   "source": [
    "train_files = train_test_list(train_images,train_labels)\n",
    "               \n",
    "                \n",
    "test_files = train_test_list(test_images,test_labels)\n",
    "\n",
    "\n",
    "check_train_test_list(train_files)\n",
    "check_train_test_list(test_files)"
   ]
  },
  {
   "cell_type": "code",
   "execution_count": 45,
   "id": "d7353927-8fdf-47c9-aece-d9bd919ccb4a",
   "metadata": {},
   "outputs": [
    {
     "name": "stdout",
     "output_type": "stream",
     "text": [
      "[{'image': 'C:/Users/RAZER/Desktop/Task09_Spleen/Task09_Spleen\\\\imagesTr\\\\spleen_22.nii.gz', 'label': 'C:/Users/RAZER/Desktop/Task09_Spleen/Task09_Spleen\\\\labelsTr\\\\spleen_22.nii.gz'}, {'image': 'C:/Users/RAZER/Desktop/Task09_Spleen/Task09_Spleen\\\\imagesTr\\\\spleen_24.nii.gz', 'label': 'C:/Users/RAZER/Desktop/Task09_Spleen/Task09_Spleen\\\\labelsTr\\\\spleen_24.nii.gz'}, {'image': 'C:/Users/RAZER/Desktop/Task09_Spleen/Task09_Spleen\\\\imagesTr\\\\spleen_25.nii.gz', 'label': 'C:/Users/RAZER/Desktop/Task09_Spleen/Task09_Spleen\\\\labelsTr\\\\spleen_25.nii.gz'}, {'image': 'C:/Users/RAZER/Desktop/Task09_Spleen/Task09_Spleen\\\\imagesTr\\\\spleen_26.nii.gz', 'label': 'C:/Users/RAZER/Desktop/Task09_Spleen/Task09_Spleen\\\\labelsTr\\\\spleen_26.nii.gz'}, {'image': 'C:/Users/RAZER/Desktop/Task09_Spleen/Task09_Spleen\\\\imagesTr\\\\spleen_27.nii.gz', 'label': 'C:/Users/RAZER/Desktop/Task09_Spleen/Task09_Spleen\\\\labelsTr\\\\spleen_27.nii.gz'}, {'image': 'C:/Users/RAZER/Desktop/Task09_Spleen/Task09_Spleen\\\\imagesTr\\\\spleen_28.nii.gz', 'label': 'C:/Users/RAZER/Desktop/Task09_Spleen/Task09_Spleen\\\\labelsTr\\\\spleen_28.nii.gz'}, {'image': 'C:/Users/RAZER/Desktop/Task09_Spleen/Task09_Spleen\\\\imagesTr\\\\spleen_29.nii.gz', 'label': 'C:/Users/RAZER/Desktop/Task09_Spleen/Task09_Spleen\\\\labelsTr\\\\spleen_29.nii.gz'}, {'image': 'C:/Users/RAZER/Desktop/Task09_Spleen/Task09_Spleen\\\\imagesTr\\\\spleen_31.nii.gz', 'label': 'C:/Users/RAZER/Desktop/Task09_Spleen/Task09_Spleen\\\\labelsTr\\\\spleen_31.nii.gz'}, {'image': 'C:/Users/RAZER/Desktop/Task09_Spleen/Task09_Spleen\\\\imagesTr\\\\spleen_32.nii.gz', 'label': 'C:/Users/RAZER/Desktop/Task09_Spleen/Task09_Spleen\\\\labelsTr\\\\spleen_32.nii.gz'}, {'image': 'C:/Users/RAZER/Desktop/Task09_Spleen/Task09_Spleen\\\\imagesTr\\\\spleen_33.nii.gz', 'label': 'C:/Users/RAZER/Desktop/Task09_Spleen/Task09_Spleen\\\\labelsTr\\\\spleen_33.nii.gz'}, {'image': 'C:/Users/RAZER/Desktop/Task09_Spleen/Task09_Spleen\\\\imagesTr\\\\spleen_38.nii.gz', 'label': 'C:/Users/RAZER/Desktop/Task09_Spleen/Task09_Spleen\\\\labelsTr\\\\spleen_38.nii.gz'}, {'image': 'C:/Users/RAZER/Desktop/Task09_Spleen/Task09_Spleen\\\\imagesTr\\\\spleen_40.nii.gz', 'label': 'C:/Users/RAZER/Desktop/Task09_Spleen/Task09_Spleen\\\\labelsTr\\\\spleen_40.nii.gz'}, {'image': 'C:/Users/RAZER/Desktop/Task09_Spleen/Task09_Spleen\\\\imagesTr\\\\spleen_41.nii.gz', 'label': 'C:/Users/RAZER/Desktop/Task09_Spleen/Task09_Spleen\\\\labelsTr\\\\spleen_41.nii.gz'}, {'image': 'C:/Users/RAZER/Desktop/Task09_Spleen/Task09_Spleen\\\\imagesTr\\\\spleen_44.nii.gz', 'label': 'C:/Users/RAZER/Desktop/Task09_Spleen/Task09_Spleen\\\\labelsTr\\\\spleen_44.nii.gz'}, {'image': 'C:/Users/RAZER/Desktop/Task09_Spleen/Task09_Spleen\\\\imagesTr\\\\spleen_45.nii.gz', 'label': 'C:/Users/RAZER/Desktop/Task09_Spleen/Task09_Spleen\\\\labelsTr\\\\spleen_45.nii.gz'}, {'image': 'C:/Users/RAZER/Desktop/Task09_Spleen/Task09_Spleen\\\\imagesTr\\\\spleen_46.nii.gz', 'label': 'C:/Users/RAZER/Desktop/Task09_Spleen/Task09_Spleen\\\\labelsTr\\\\spleen_46.nii.gz'}, {'image': 'C:/Users/RAZER/Desktop/Task09_Spleen/Task09_Spleen\\\\imagesTr\\\\spleen_47.nii.gz', 'label': 'C:/Users/RAZER/Desktop/Task09_Spleen/Task09_Spleen\\\\labelsTr\\\\spleen_47.nii.gz'}, {'image': 'C:/Users/RAZER/Desktop/Task09_Spleen/Task09_Spleen\\\\imagesTr\\\\spleen_49.nii.gz', 'label': 'C:/Users/RAZER/Desktop/Task09_Spleen/Task09_Spleen\\\\labelsTr\\\\spleen_49.nii.gz'}, {'image': 'C:/Users/RAZER/Desktop/Task09_Spleen/Task09_Spleen\\\\imagesTr\\\\spleen_52.nii.gz', 'label': 'C:/Users/RAZER/Desktop/Task09_Spleen/Task09_Spleen\\\\labelsTr\\\\spleen_52.nii.gz'}, {'image': 'C:/Users/RAZER/Desktop/Task09_Spleen/Task09_Spleen\\\\imagesTr\\\\spleen_53.nii.gz', 'label': 'C:/Users/RAZER/Desktop/Task09_Spleen/Task09_Spleen\\\\labelsTr\\\\spleen_53.nii.gz'}, {'image': 'C:/Users/RAZER/Desktop/Task09_Spleen/Task09_Spleen\\\\imagesTr\\\\spleen_56.nii.gz', 'label': 'C:/Users/RAZER/Desktop/Task09_Spleen/Task09_Spleen\\\\labelsTr\\\\spleen_56.nii.gz'}, {'image': 'C:/Users/RAZER/Desktop/Task09_Spleen/Task09_Spleen\\\\imagesTr\\\\spleen_59.nii.gz', 'label': 'C:/Users/RAZER/Desktop/Task09_Spleen/Task09_Spleen\\\\labelsTr\\\\spleen_59.nii.gz'}, {'image': 'C:/Users/RAZER/Desktop/Task09_Spleen/Task09_Spleen\\\\imagesTr\\\\spleen_60.nii.gz', 'label': 'C:/Users/RAZER/Desktop/Task09_Spleen/Task09_Spleen\\\\labelsTr\\\\spleen_60.nii.gz'}, {'image': 'C:/Users/RAZER/Desktop/Task09_Spleen/Task09_Spleen\\\\imagesTr\\\\spleen_61.nii.gz', 'label': 'C:/Users/RAZER/Desktop/Task09_Spleen/Task09_Spleen\\\\labelsTr\\\\spleen_61.nii.gz'}, {'image': 'C:/Users/RAZER/Desktop/Task09_Spleen/Task09_Spleen\\\\imagesTr\\\\spleen_62.nii.gz', 'label': 'C:/Users/RAZER/Desktop/Task09_Spleen/Task09_Spleen\\\\labelsTr\\\\spleen_62.nii.gz'}, {'image': 'C:/Users/RAZER/Desktop/Task09_Spleen/Task09_Spleen\\\\imagesTr\\\\spleen_63.nii.gz', 'label': 'C:/Users/RAZER/Desktop/Task09_Spleen/Task09_Spleen\\\\labelsTr\\\\spleen_63.nii.gz'}]\n",
      "[{'image': 'C:/Users/RAZER/Desktop/Task09_Spleen/Task09_Spleen\\\\imagesTs\\\\spleen_10.nii.gz', 'label': 'C:/Users/RAZER/Desktop/Task09_Spleen/Task09_Spleen\\\\labelsTs\\\\spleen_10.nii.gz'}, {'image': 'C:/Users/RAZER/Desktop/Task09_Spleen/Task09_Spleen\\\\imagesTs\\\\spleen_12.nii.gz', 'label': 'C:/Users/RAZER/Desktop/Task09_Spleen/Task09_Spleen\\\\labelsTs\\\\spleen_12.nii.gz'}, {'image': 'C:/Users/RAZER/Desktop/Task09_Spleen/Task09_Spleen\\\\imagesTs\\\\spleen_13.nii.gz', 'label': 'C:/Users/RAZER/Desktop/Task09_Spleen/Task09_Spleen\\\\labelsTs\\\\spleen_13.nii.gz'}, {'image': 'C:/Users/RAZER/Desktop/Task09_Spleen/Task09_Spleen\\\\imagesTs\\\\spleen_14.nii.gz', 'label': 'C:/Users/RAZER/Desktop/Task09_Spleen/Task09_Spleen\\\\labelsTs\\\\spleen_14.nii.gz'}, {'image': 'C:/Users/RAZER/Desktop/Task09_Spleen/Task09_Spleen\\\\imagesTs\\\\spleen_16.nii.gz', 'label': 'C:/Users/RAZER/Desktop/Task09_Spleen/Task09_Spleen\\\\labelsTs\\\\spleen_16.nii.gz'}, {'image': 'C:/Users/RAZER/Desktop/Task09_Spleen/Task09_Spleen\\\\imagesTs\\\\spleen_17.nii.gz', 'label': 'C:/Users/RAZER/Desktop/Task09_Spleen/Task09_Spleen\\\\labelsTs\\\\spleen_17.nii.gz'}, {'image': 'C:/Users/RAZER/Desktop/Task09_Spleen/Task09_Spleen\\\\imagesTs\\\\spleen_18.nii.gz', 'label': 'C:/Users/RAZER/Desktop/Task09_Spleen/Task09_Spleen\\\\labelsTs\\\\spleen_18.nii.gz'}, {'image': 'C:/Users/RAZER/Desktop/Task09_Spleen/Task09_Spleen\\\\imagesTs\\\\spleen_19.nii.gz', 'label': 'C:/Users/RAZER/Desktop/Task09_Spleen/Task09_Spleen\\\\labelsTs\\\\spleen_19.nii.gz'}, {'image': 'C:/Users/RAZER/Desktop/Task09_Spleen/Task09_Spleen\\\\imagesTs\\\\spleen_2.nii.gz', 'label': 'C:/Users/RAZER/Desktop/Task09_Spleen/Task09_Spleen\\\\labelsTs\\\\spleen_2.nii.gz'}, {'image': 'C:/Users/RAZER/Desktop/Task09_Spleen/Task09_Spleen\\\\imagesTs\\\\spleen_20.nii.gz', 'label': 'C:/Users/RAZER/Desktop/Task09_Spleen/Task09_Spleen\\\\labelsTs\\\\spleen_20.nii.gz'}, {'image': 'C:/Users/RAZER/Desktop/Task09_Spleen/Task09_Spleen\\\\imagesTs\\\\spleen_21.nii.gz', 'label': 'C:/Users/RAZER/Desktop/Task09_Spleen/Task09_Spleen\\\\labelsTs\\\\spleen_21.nii.gz'}, {'image': 'C:/Users/RAZER/Desktop/Task09_Spleen/Task09_Spleen\\\\imagesTs\\\\spleen_3.nii.gz', 'label': 'C:/Users/RAZER/Desktop/Task09_Spleen/Task09_Spleen\\\\labelsTs\\\\spleen_3.nii.gz'}, {'image': 'C:/Users/RAZER/Desktop/Task09_Spleen/Task09_Spleen\\\\imagesTs\\\\spleen_6.nii.gz', 'label': 'C:/Users/RAZER/Desktop/Task09_Spleen/Task09_Spleen\\\\labelsTs\\\\spleen_6.nii.gz'}, {'image': 'C:/Users/RAZER/Desktop/Task09_Spleen/Task09_Spleen\\\\imagesTs\\\\spleen_8.nii.gz', 'label': 'C:/Users/RAZER/Desktop/Task09_Spleen/Task09_Spleen\\\\labelsTs\\\\spleen_8.nii.gz'}, {'image': 'C:/Users/RAZER/Desktop/Task09_Spleen/Task09_Spleen\\\\imagesTs\\\\spleen_9.nii.gz', 'label': 'C:/Users/RAZER/Desktop/Task09_Spleen/Task09_Spleen\\\\labelsTs\\\\spleen_9.nii.gz'}]\n"
     ]
    }
   ],
   "source": [
    "print(train_files)\n",
    "print(test_files)"
   ]
  },
  {
   "cell_type": "code",
   "execution_count": 22,
   "id": "9b0b5614-2b79-42e9-b669-7ab3abc4231d",
   "metadata": {},
   "outputs": [],
   "source": [
    "#train_files = [{'image': image_name, 'label':label_name} for image_name,label_name in zip(train_images,train_labels)]"
   ]
  },
  {
   "cell_type": "markdown",
   "id": "ad7133fa-8c71-402c-b9be-c5b99b714eca",
   "metadata": {},
   "source": [
    "#Compose "
   ]
  },
  {
   "cell_type": "code",
   "execution_count": 57,
   "id": "de335a51-6b37-4ab2-9ddd-943d9771449a",
   "metadata": {},
   "outputs": [],
   "source": [
    "import torch\n",
    "from monai.transforms import (\n",
    "    \n",
    "    Compose,\n",
    "    LoadImaged,\n",
    "    ToTensord,\n",
    "    AddChanneld,\n",
    "\n",
    ")# if dictionary is being used, then an additional 'd' must be add after the funciton name\n",
    "\n",
    "\n"
   ]
  },
  {
   "cell_type": "code",
   "execution_count": 59,
   "id": "2356926f-672a-4a19-8a5f-da308964bb68",
   "metadata": {},
   "outputs": [],
   "source": [
    "#load the images\n",
    "#any transforms\n",
    "#need to convert them into torch tensor\n",
    "\n",
    "\n",
    "train_transforms = Compose(\n",
    "    [\n",
    "        LoadImaged(keys=['image', 'label']),\n",
    "        AddChanneld(keys=['image', 'label']),\n",
    "        ToTensord(keys=['image','label']),\n",
    "\n",
    "        \n",
    "        \n",
    "    ]\n",
    "\n",
    "\n",
    ")\n",
    "\n",
    "\n",
    "\n",
    "test_transforms = Compose(\n",
    "    [\n",
    "        LoadImaged(keys=['image', 'label']),\n",
    "        AddChanneld(keys=['image', 'label']),\n",
    "        ToTensord(keys=['image','label']),\n",
    "        \n",
    "        \n",
    "    ]\n",
    "\n",
    "\n",
    ")"
   ]
  },
  {
   "cell_type": "code",
   "execution_count": null,
   "id": "b0f3a4a2-ec6e-4b5c-a67b-d2505af69d8c",
   "metadata": {},
   "outputs": [],
   "source": []
  }
 ],
 "metadata": {
  "kernelspec": {
   "display_name": "Python 3 (ipykernel)",
   "language": "python",
   "name": "python3"
  },
  "language_info": {
   "codemirror_mode": {
    "name": "ipython",
    "version": 3
   },
   "file_extension": ".py",
   "mimetype": "text/x-python",
   "name": "python",
   "nbconvert_exporter": "python",
   "pygments_lexer": "ipython3",
   "version": "3.9.16"
  }
 },
 "nbformat": 4,
 "nbformat_minor": 5
}
