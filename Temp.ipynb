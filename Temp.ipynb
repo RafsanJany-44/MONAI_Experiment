{
 "cells": [
  {
   "cell_type": "code",
   "execution_count": 45,
   "id": "3c493196-516e-4cbd-bc29-03cfc2a33803",
   "metadata": {},
   "outputs": [
    {
     "name": "stdout",
     "output_type": "stream",
     "text": [
      "Requirement already satisfied: glob2 in c:\\users\\razer\\anaconda3\\envs\\mamba\\lib\\site-packages (0.7)\n"
     ]
    }
   ],
   "source": [
    "!pip install glob2"
   ]
  },
  {
   "cell_type": "code",
   "execution_count": 46,
   "id": "5eaa634e-c4bd-4c5b-a9ea-38dedfd80300",
   "metadata": {},
   "outputs": [
    {
     "name": "stdout",
     "output_type": "stream",
     "text": [
      "Requirement already satisfied: pytest-shutil in c:\\users\\razer\\anaconda3\\envs\\mamba\\lib\\site-packages (1.7.0)\n",
      "Requirement already satisfied: six in c:\\users\\razer\\anaconda3\\envs\\mamba\\lib\\site-packages (from pytest-shutil) (1.16.0)\n",
      "Requirement already satisfied: contextlib2 in c:\\users\\razer\\anaconda3\\envs\\mamba\\lib\\site-packages (from pytest-shutil) (21.6.0)\n",
      "Requirement already satisfied: termcolor in c:\\users\\razer\\anaconda3\\envs\\mamba\\lib\\site-packages (from pytest-shutil) (2.2.0)\n",
      "Requirement already satisfied: execnet in c:\\users\\razer\\anaconda3\\envs\\mamba\\lib\\site-packages (from pytest-shutil) (1.9.0)\n",
      "Requirement already satisfied: pytest in c:\\users\\razer\\anaconda3\\envs\\mamba\\lib\\site-packages (from pytest-shutil) (7.2.2)\n",
      "Requirement already satisfied: path.py in c:\\users\\razer\\anaconda3\\envs\\mamba\\lib\\site-packages (from pytest-shutil) (12.5.0)\n",
      "Requirement already satisfied: mock in c:\\users\\razer\\anaconda3\\envs\\mamba\\lib\\site-packages (from pytest-shutil) (5.0.1)\n",
      "Requirement already satisfied: path in c:\\users\\razer\\anaconda3\\envs\\mamba\\lib\\site-packages (from path.py->pytest-shutil) (16.6.0)\n",
      "Requirement already satisfied: attrs>=19.2.0 in c:\\users\\razer\\anaconda3\\envs\\mamba\\lib\\site-packages (from pytest->pytest-shutil) (22.1.0)\n",
      "Requirement already satisfied: packaging in c:\\users\\razer\\anaconda3\\envs\\mamba\\lib\\site-packages (from pytest->pytest-shutil) (23.0)\n",
      "Requirement already satisfied: tomli>=1.0.0 in c:\\users\\razer\\anaconda3\\envs\\mamba\\lib\\site-packages (from pytest->pytest-shutil) (2.0.1)\n",
      "Requirement already satisfied: pluggy<2.0,>=0.12 in c:\\users\\razer\\anaconda3\\envs\\mamba\\lib\\site-packages (from pytest->pytest-shutil) (1.0.0)\n",
      "Requirement already satisfied: exceptiongroup>=1.0.0rc8 in c:\\users\\razer\\anaconda3\\envs\\mamba\\lib\\site-packages (from pytest->pytest-shutil) (1.1.1)\n",
      "Requirement already satisfied: colorama in c:\\users\\razer\\anaconda3\\envs\\mamba\\lib\\site-packages (from pytest->pytest-shutil) (0.4.6)\n",
      "Requirement already satisfied: iniconfig in c:\\users\\razer\\anaconda3\\envs\\mamba\\lib\\site-packages (from pytest->pytest-shutil) (2.0.0)\n"
     ]
    }
   ],
   "source": [
    "!pip install pytest-shutil"
   ]
  },
  {
   "cell_type": "code",
   "execution_count": 47,
   "id": "9b5fff96-ce51-4213-b1ba-a274f55a5278",
   "metadata": {},
   "outputs": [],
   "source": [
    "from glob import glob\n",
    "import shutil\n",
    "import os"
   ]
  },
  {
   "cell_type": "code",
   "execution_count": 48,
   "id": "0234e670-31f2-4e79-895b-01d20e3ba47f",
   "metadata": {},
   "outputs": [],
   "source": [
    "d_initial = \"C:/Users/RAZER/Desktop/small_data_spleehen/dicom_initial/images\"\n",
    "d_final = \"C:/Users/RAZER/Desktop/small_data_spleehen/dicom_final/images\""
   ]
  },
  {
   "cell_type": "code",
   "execution_count": 49,
   "id": "360e6ef5-5b48-4dfa-b713-04ffa19541af",
   "metadata": {},
   "outputs": [
    {
     "data": {
      "text/plain": [
       "['C:/Users/RAZER/Desktop/small_data_spleehen/dicom_initial/images\\\\images_sleephen_2',\n",
       " 'C:/Users/RAZER/Desktop/small_data_spleehen/dicom_initial/images\\\\images_sleephen_3']"
      ]
     },
     "execution_count": 49,
     "metadata": {},
     "output_type": "execute_result"
    }
   ],
   "source": [
    "glob(d_initial+\"/*\")"
   ]
  },
  {
   "cell_type": "code",
   "execution_count": 50,
   "id": "af8e6471-89cb-4713-afc8-a8f825466bd8",
   "metadata": {},
   "outputs": [
    {
     "name": "stdout",
     "output_type": "stream",
     "text": [
      "C:/Users/RAZER/Desktop/small_data_spleehen/dicom_initial/images\\images_sleephen_2\n"
     ]
    }
   ],
   "source": [
    "i = glob(d_initial+\"/*\")[0]\n",
    "\n",
    "print(i)"
   ]
  },
  {
   "cell_type": "code",
   "execution_count": 51,
   "id": "0871b273-b0e4-4cb7-bbd8-8a0833cf78af",
   "metadata": {},
   "outputs": [
    {
     "name": "stdout",
     "output_type": "stream",
     "text": [
      "90\n",
      "['C:/Users/RAZER/Desktop/small_data_spleehen/dicom_initial/images\\\\images_sleephen_2\\\\IMG0001.dcm', 'C:/Users/RAZER/Desktop/small_data_spleehen/dicom_initial/images\\\\images_sleephen_2\\\\IMG0002.dcm', 'C:/Users/RAZER/Desktop/small_data_spleehen/dicom_initial/images\\\\images_sleephen_2\\\\IMG0003.dcm', 'C:/Users/RAZER/Desktop/small_data_spleehen/dicom_initial/images\\\\images_sleephen_2\\\\IMG0004.dcm', 'C:/Users/RAZER/Desktop/small_data_spleehen/dicom_initial/images\\\\images_sleephen_2\\\\IMG0005.dcm', 'C:/Users/RAZER/Desktop/small_data_spleehen/dicom_initial/images\\\\images_sleephen_2\\\\IMG0006.dcm', 'C:/Users/RAZER/Desktop/small_data_spleehen/dicom_initial/images\\\\images_sleephen_2\\\\IMG0007.dcm', 'C:/Users/RAZER/Desktop/small_data_spleehen/dicom_initial/images\\\\images_sleephen_2\\\\IMG0008.dcm', 'C:/Users/RAZER/Desktop/small_data_spleehen/dicom_initial/images\\\\images_sleephen_2\\\\IMG0009.dcm', 'C:/Users/RAZER/Desktop/small_data_spleehen/dicom_initial/images\\\\images_sleephen_2\\\\IMG0010.dcm', 'C:/Users/RAZER/Desktop/small_data_spleehen/dicom_initial/images\\\\images_sleephen_2\\\\IMG0011.dcm', 'C:/Users/RAZER/Desktop/small_data_spleehen/dicom_initial/images\\\\images_sleephen_2\\\\IMG0012.dcm', 'C:/Users/RAZER/Desktop/small_data_spleehen/dicom_initial/images\\\\images_sleephen_2\\\\IMG0013.dcm', 'C:/Users/RAZER/Desktop/small_data_spleehen/dicom_initial/images\\\\images_sleephen_2\\\\IMG0014.dcm', 'C:/Users/RAZER/Desktop/small_data_spleehen/dicom_initial/images\\\\images_sleephen_2\\\\IMG0015.dcm', 'C:/Users/RAZER/Desktop/small_data_spleehen/dicom_initial/images\\\\images_sleephen_2\\\\IMG0016.dcm', 'C:/Users/RAZER/Desktop/small_data_spleehen/dicom_initial/images\\\\images_sleephen_2\\\\IMG0017.dcm', 'C:/Users/RAZER/Desktop/small_data_spleehen/dicom_initial/images\\\\images_sleephen_2\\\\IMG0018.dcm', 'C:/Users/RAZER/Desktop/small_data_spleehen/dicom_initial/images\\\\images_sleephen_2\\\\IMG0019.dcm', 'C:/Users/RAZER/Desktop/small_data_spleehen/dicom_initial/images\\\\images_sleephen_2\\\\IMG0020.dcm', 'C:/Users/RAZER/Desktop/small_data_spleehen/dicom_initial/images\\\\images_sleephen_2\\\\IMG0021.dcm', 'C:/Users/RAZER/Desktop/small_data_spleehen/dicom_initial/images\\\\images_sleephen_2\\\\IMG0022.dcm', 'C:/Users/RAZER/Desktop/small_data_spleehen/dicom_initial/images\\\\images_sleephen_2\\\\IMG0023.dcm', 'C:/Users/RAZER/Desktop/small_data_spleehen/dicom_initial/images\\\\images_sleephen_2\\\\IMG0024.dcm', 'C:/Users/RAZER/Desktop/small_data_spleehen/dicom_initial/images\\\\images_sleephen_2\\\\IMG0025.dcm', 'C:/Users/RAZER/Desktop/small_data_spleehen/dicom_initial/images\\\\images_sleephen_2\\\\IMG0026.dcm', 'C:/Users/RAZER/Desktop/small_data_spleehen/dicom_initial/images\\\\images_sleephen_2\\\\IMG0027.dcm', 'C:/Users/RAZER/Desktop/small_data_spleehen/dicom_initial/images\\\\images_sleephen_2\\\\IMG0028.dcm', 'C:/Users/RAZER/Desktop/small_data_spleehen/dicom_initial/images\\\\images_sleephen_2\\\\IMG0029.dcm', 'C:/Users/RAZER/Desktop/small_data_spleehen/dicom_initial/images\\\\images_sleephen_2\\\\IMG0030.dcm', 'C:/Users/RAZER/Desktop/small_data_spleehen/dicom_initial/images\\\\images_sleephen_2\\\\IMG0031.dcm', 'C:/Users/RAZER/Desktop/small_data_spleehen/dicom_initial/images\\\\images_sleephen_2\\\\IMG0032.dcm', 'C:/Users/RAZER/Desktop/small_data_spleehen/dicom_initial/images\\\\images_sleephen_2\\\\IMG0033.dcm', 'C:/Users/RAZER/Desktop/small_data_spleehen/dicom_initial/images\\\\images_sleephen_2\\\\IMG0034.dcm', 'C:/Users/RAZER/Desktop/small_data_spleehen/dicom_initial/images\\\\images_sleephen_2\\\\IMG0035.dcm', 'C:/Users/RAZER/Desktop/small_data_spleehen/dicom_initial/images\\\\images_sleephen_2\\\\IMG0036.dcm', 'C:/Users/RAZER/Desktop/small_data_spleehen/dicom_initial/images\\\\images_sleephen_2\\\\IMG0037.dcm', 'C:/Users/RAZER/Desktop/small_data_spleehen/dicom_initial/images\\\\images_sleephen_2\\\\IMG0038.dcm', 'C:/Users/RAZER/Desktop/small_data_spleehen/dicom_initial/images\\\\images_sleephen_2\\\\IMG0039.dcm', 'C:/Users/RAZER/Desktop/small_data_spleehen/dicom_initial/images\\\\images_sleephen_2\\\\IMG0040.dcm', 'C:/Users/RAZER/Desktop/small_data_spleehen/dicom_initial/images\\\\images_sleephen_2\\\\IMG0041.dcm', 'C:/Users/RAZER/Desktop/small_data_spleehen/dicom_initial/images\\\\images_sleephen_2\\\\IMG0042.dcm', 'C:/Users/RAZER/Desktop/small_data_spleehen/dicom_initial/images\\\\images_sleephen_2\\\\IMG0043.dcm', 'C:/Users/RAZER/Desktop/small_data_spleehen/dicom_initial/images\\\\images_sleephen_2\\\\IMG0044.dcm', 'C:/Users/RAZER/Desktop/small_data_spleehen/dicom_initial/images\\\\images_sleephen_2\\\\IMG0045.dcm', 'C:/Users/RAZER/Desktop/small_data_spleehen/dicom_initial/images\\\\images_sleephen_2\\\\IMG0046.dcm', 'C:/Users/RAZER/Desktop/small_data_spleehen/dicom_initial/images\\\\images_sleephen_2\\\\IMG0047.dcm', 'C:/Users/RAZER/Desktop/small_data_spleehen/dicom_initial/images\\\\images_sleephen_2\\\\IMG0048.dcm', 'C:/Users/RAZER/Desktop/small_data_spleehen/dicom_initial/images\\\\images_sleephen_2\\\\IMG0049.dcm', 'C:/Users/RAZER/Desktop/small_data_spleehen/dicom_initial/images\\\\images_sleephen_2\\\\IMG0050.dcm', 'C:/Users/RAZER/Desktop/small_data_spleehen/dicom_initial/images\\\\images_sleephen_2\\\\IMG0051.dcm', 'C:/Users/RAZER/Desktop/small_data_spleehen/dicom_initial/images\\\\images_sleephen_2\\\\IMG0052.dcm', 'C:/Users/RAZER/Desktop/small_data_spleehen/dicom_initial/images\\\\images_sleephen_2\\\\IMG0053.dcm', 'C:/Users/RAZER/Desktop/small_data_spleehen/dicom_initial/images\\\\images_sleephen_2\\\\IMG0054.dcm', 'C:/Users/RAZER/Desktop/small_data_spleehen/dicom_initial/images\\\\images_sleephen_2\\\\IMG0055.dcm', 'C:/Users/RAZER/Desktop/small_data_spleehen/dicom_initial/images\\\\images_sleephen_2\\\\IMG0056.dcm', 'C:/Users/RAZER/Desktop/small_data_spleehen/dicom_initial/images\\\\images_sleephen_2\\\\IMG0057.dcm', 'C:/Users/RAZER/Desktop/small_data_spleehen/dicom_initial/images\\\\images_sleephen_2\\\\IMG0058.dcm', 'C:/Users/RAZER/Desktop/small_data_spleehen/dicom_initial/images\\\\images_sleephen_2\\\\IMG0059.dcm', 'C:/Users/RAZER/Desktop/small_data_spleehen/dicom_initial/images\\\\images_sleephen_2\\\\IMG0060.dcm', 'C:/Users/RAZER/Desktop/small_data_spleehen/dicom_initial/images\\\\images_sleephen_2\\\\IMG0061.dcm', 'C:/Users/RAZER/Desktop/small_data_spleehen/dicom_initial/images\\\\images_sleephen_2\\\\IMG0062.dcm', 'C:/Users/RAZER/Desktop/small_data_spleehen/dicom_initial/images\\\\images_sleephen_2\\\\IMG0063.dcm', 'C:/Users/RAZER/Desktop/small_data_spleehen/dicom_initial/images\\\\images_sleephen_2\\\\IMG0064.dcm', 'C:/Users/RAZER/Desktop/small_data_spleehen/dicom_initial/images\\\\images_sleephen_2\\\\IMG0065.dcm', 'C:/Users/RAZER/Desktop/small_data_spleehen/dicom_initial/images\\\\images_sleephen_2\\\\IMG0066.dcm', 'C:/Users/RAZER/Desktop/small_data_spleehen/dicom_initial/images\\\\images_sleephen_2\\\\IMG0067.dcm', 'C:/Users/RAZER/Desktop/small_data_spleehen/dicom_initial/images\\\\images_sleephen_2\\\\IMG0068.dcm', 'C:/Users/RAZER/Desktop/small_data_spleehen/dicom_initial/images\\\\images_sleephen_2\\\\IMG0069.dcm', 'C:/Users/RAZER/Desktop/small_data_spleehen/dicom_initial/images\\\\images_sleephen_2\\\\IMG0070.dcm', 'C:/Users/RAZER/Desktop/small_data_spleehen/dicom_initial/images\\\\images_sleephen_2\\\\IMG0071.dcm', 'C:/Users/RAZER/Desktop/small_data_spleehen/dicom_initial/images\\\\images_sleephen_2\\\\IMG0072.dcm', 'C:/Users/RAZER/Desktop/small_data_spleehen/dicom_initial/images\\\\images_sleephen_2\\\\IMG0073.dcm', 'C:/Users/RAZER/Desktop/small_data_spleehen/dicom_initial/images\\\\images_sleephen_2\\\\IMG0074.dcm', 'C:/Users/RAZER/Desktop/small_data_spleehen/dicom_initial/images\\\\images_sleephen_2\\\\IMG0075.dcm', 'C:/Users/RAZER/Desktop/small_data_spleehen/dicom_initial/images\\\\images_sleephen_2\\\\IMG0076.dcm', 'C:/Users/RAZER/Desktop/small_data_spleehen/dicom_initial/images\\\\images_sleephen_2\\\\IMG0077.dcm', 'C:/Users/RAZER/Desktop/small_data_spleehen/dicom_initial/images\\\\images_sleephen_2\\\\IMG0078.dcm', 'C:/Users/RAZER/Desktop/small_data_spleehen/dicom_initial/images\\\\images_sleephen_2\\\\IMG0079.dcm', 'C:/Users/RAZER/Desktop/small_data_spleehen/dicom_initial/images\\\\images_sleephen_2\\\\IMG0080.dcm', 'C:/Users/RAZER/Desktop/small_data_spleehen/dicom_initial/images\\\\images_sleephen_2\\\\IMG0081.dcm', 'C:/Users/RAZER/Desktop/small_data_spleehen/dicom_initial/images\\\\images_sleephen_2\\\\IMG0082.dcm', 'C:/Users/RAZER/Desktop/small_data_spleehen/dicom_initial/images\\\\images_sleephen_2\\\\IMG0083.dcm', 'C:/Users/RAZER/Desktop/small_data_spleehen/dicom_initial/images\\\\images_sleephen_2\\\\IMG0084.dcm', 'C:/Users/RAZER/Desktop/small_data_spleehen/dicom_initial/images\\\\images_sleephen_2\\\\IMG0085.dcm', 'C:/Users/RAZER/Desktop/small_data_spleehen/dicom_initial/images\\\\images_sleephen_2\\\\IMG0086.dcm', 'C:/Users/RAZER/Desktop/small_data_spleehen/dicom_initial/images\\\\images_sleephen_2\\\\IMG0087.dcm', 'C:/Users/RAZER/Desktop/small_data_spleehen/dicom_initial/images\\\\images_sleephen_2\\\\IMG0088.dcm', 'C:/Users/RAZER/Desktop/small_data_spleehen/dicom_initial/images\\\\images_sleephen_2\\\\IMG0089.dcm', 'C:/Users/RAZER/Desktop/small_data_spleehen/dicom_initial/images\\\\images_sleephen_2\\\\IMG0090.dcm']\n"
     ]
    }
   ],
   "source": [
    "print(len(glob(i+\"/*\")))\n",
    "print(glob(i+\"/*\"))"
   ]
  },
  {
   "cell_type": "code",
   "execution_count": 52,
   "id": "5ee4acd3-ddee-4466-8a4e-90be4d280807",
   "metadata": {},
   "outputs": [
    {
     "name": "stdout",
     "output_type": "stream",
     "text": [
      "C:/Users/RAZER/Desktop/small_data_spleehen/dicom_initial/images\\images_sleephen_3\n"
     ]
    }
   ],
   "source": [
    "i = glob(d_initial+\"/*\")[1]\n",
    "\n",
    "print(i)"
   ]
  },
  {
   "cell_type": "code",
   "execution_count": 53,
   "id": "60c27358-387c-467c-9bbf-64ce615abd6c",
   "metadata": {},
   "outputs": [
    {
     "name": "stdout",
     "output_type": "stream",
     "text": [
      "40\n",
      "['C:/Users/RAZER/Desktop/small_data_spleehen/dicom_initial/images\\\\images_sleephen_3\\\\IMG0001.dcm', 'C:/Users/RAZER/Desktop/small_data_spleehen/dicom_initial/images\\\\images_sleephen_3\\\\IMG0002.dcm', 'C:/Users/RAZER/Desktop/small_data_spleehen/dicom_initial/images\\\\images_sleephen_3\\\\IMG0003.dcm', 'C:/Users/RAZER/Desktop/small_data_spleehen/dicom_initial/images\\\\images_sleephen_3\\\\IMG0004.dcm', 'C:/Users/RAZER/Desktop/small_data_spleehen/dicom_initial/images\\\\images_sleephen_3\\\\IMG0005.dcm', 'C:/Users/RAZER/Desktop/small_data_spleehen/dicom_initial/images\\\\images_sleephen_3\\\\IMG0006.dcm', 'C:/Users/RAZER/Desktop/small_data_spleehen/dicom_initial/images\\\\images_sleephen_3\\\\IMG0007.dcm', 'C:/Users/RAZER/Desktop/small_data_spleehen/dicom_initial/images\\\\images_sleephen_3\\\\IMG0008.dcm', 'C:/Users/RAZER/Desktop/small_data_spleehen/dicom_initial/images\\\\images_sleephen_3\\\\IMG0009.dcm', 'C:/Users/RAZER/Desktop/small_data_spleehen/dicom_initial/images\\\\images_sleephen_3\\\\IMG0010.dcm', 'C:/Users/RAZER/Desktop/small_data_spleehen/dicom_initial/images\\\\images_sleephen_3\\\\IMG0011.dcm', 'C:/Users/RAZER/Desktop/small_data_spleehen/dicom_initial/images\\\\images_sleephen_3\\\\IMG0012.dcm', 'C:/Users/RAZER/Desktop/small_data_spleehen/dicom_initial/images\\\\images_sleephen_3\\\\IMG0013.dcm', 'C:/Users/RAZER/Desktop/small_data_spleehen/dicom_initial/images\\\\images_sleephen_3\\\\IMG0014.dcm', 'C:/Users/RAZER/Desktop/small_data_spleehen/dicom_initial/images\\\\images_sleephen_3\\\\IMG0015.dcm', 'C:/Users/RAZER/Desktop/small_data_spleehen/dicom_initial/images\\\\images_sleephen_3\\\\IMG0016.dcm', 'C:/Users/RAZER/Desktop/small_data_spleehen/dicom_initial/images\\\\images_sleephen_3\\\\IMG0017.dcm', 'C:/Users/RAZER/Desktop/small_data_spleehen/dicom_initial/images\\\\images_sleephen_3\\\\IMG0018.dcm', 'C:/Users/RAZER/Desktop/small_data_spleehen/dicom_initial/images\\\\images_sleephen_3\\\\IMG0019.dcm', 'C:/Users/RAZER/Desktop/small_data_spleehen/dicom_initial/images\\\\images_sleephen_3\\\\IMG0020.dcm', 'C:/Users/RAZER/Desktop/small_data_spleehen/dicom_initial/images\\\\images_sleephen_3\\\\IMG0021.dcm', 'C:/Users/RAZER/Desktop/small_data_spleehen/dicom_initial/images\\\\images_sleephen_3\\\\IMG0022.dcm', 'C:/Users/RAZER/Desktop/small_data_spleehen/dicom_initial/images\\\\images_sleephen_3\\\\IMG0023.dcm', 'C:/Users/RAZER/Desktop/small_data_spleehen/dicom_initial/images\\\\images_sleephen_3\\\\IMG0024.dcm', 'C:/Users/RAZER/Desktop/small_data_spleehen/dicom_initial/images\\\\images_sleephen_3\\\\IMG0025.dcm', 'C:/Users/RAZER/Desktop/small_data_spleehen/dicom_initial/images\\\\images_sleephen_3\\\\IMG0026.dcm', 'C:/Users/RAZER/Desktop/small_data_spleehen/dicom_initial/images\\\\images_sleephen_3\\\\IMG0027.dcm', 'C:/Users/RAZER/Desktop/small_data_spleehen/dicom_initial/images\\\\images_sleephen_3\\\\IMG0028.dcm', 'C:/Users/RAZER/Desktop/small_data_spleehen/dicom_initial/images\\\\images_sleephen_3\\\\IMG0029.dcm', 'C:/Users/RAZER/Desktop/small_data_spleehen/dicom_initial/images\\\\images_sleephen_3\\\\IMG0030.dcm', 'C:/Users/RAZER/Desktop/small_data_spleehen/dicom_initial/images\\\\images_sleephen_3\\\\IMG0031.dcm', 'C:/Users/RAZER/Desktop/small_data_spleehen/dicom_initial/images\\\\images_sleephen_3\\\\IMG0032.dcm', 'C:/Users/RAZER/Desktop/small_data_spleehen/dicom_initial/images\\\\images_sleephen_3\\\\IMG0033.dcm', 'C:/Users/RAZER/Desktop/small_data_spleehen/dicom_initial/images\\\\images_sleephen_3\\\\IMG0034.dcm', 'C:/Users/RAZER/Desktop/small_data_spleehen/dicom_initial/images\\\\images_sleephen_3\\\\IMG0035.dcm', 'C:/Users/RAZER/Desktop/small_data_spleehen/dicom_initial/images\\\\images_sleephen_3\\\\IMG0036.dcm', 'C:/Users/RAZER/Desktop/small_data_spleehen/dicom_initial/images\\\\images_sleephen_3\\\\IMG0037.dcm', 'C:/Users/RAZER/Desktop/small_data_spleehen/dicom_initial/images\\\\images_sleephen_3\\\\IMG0038.dcm', 'C:/Users/RAZER/Desktop/small_data_spleehen/dicom_initial/images\\\\images_sleephen_3\\\\IMG0039.dcm', 'C:/Users/RAZER/Desktop/small_data_spleehen/dicom_initial/images\\\\images_sleephen_3\\\\IMG0040.dcm']\n"
     ]
    }
   ],
   "source": [
    "print(len(glob(i+\"/*\")))\n",
    "print(glob(i+\"/*\"))"
   ]
  },
  {
   "cell_type": "code",
   "execution_count": 54,
   "id": "dc5bf310-ed6e-4240-b884-72fb77553a6d",
   "metadata": {},
   "outputs": [
    {
     "name": "stdout",
     "output_type": "stream",
     "text": [
      "-----------\n",
      "Enterd-> C:/Users/RAZER/Desktop/small_data_spleehen/dicom_initial/images\\images_sleephen_2\n",
      "2\n",
      "images_sleephen_2\n",
      "Enterd-> C:/Users/RAZER/Desktop/small_data_spleehen/dicom_final/images\\images_sleephen_2_1\n",
      "Enterd-> C:/Users/RAZER/Desktop/small_data_spleehen/dicom_final/images\\images_sleephen_2_2\n",
      "-----------\n",
      "Enterd-> C:/Users/RAZER/Desktop/small_data_spleehen/dicom_initial/images\\images_sleephen_3\n",
      "1\n",
      "images_sleephen_3\n",
      "Enterd-> C:/Users/RAZER/Desktop/small_data_spleehen/dicom_final/images\\images_sleephen_3_1\n"
     ]
    }
   ],
   "source": [
    "number_of_slice = 40\n",
    "\n",
    "for i in glob(d_initial+\"/*\"):\n",
    "    print(\"-----------\")\n",
    "    print(\"Enterd->\",i)\n",
    "    folder_name = os.path.basename(os.path.normpath(i))                # return the last located folder name\n",
    "    number_of_folder = int(len(glob(i+\"/*\"))/number_of_slice)\n",
    "    print(number_of_folder)\n",
    "    print(folder_name)\n",
    "    \n",
    "    \n",
    "    for j in range(1,number_of_folder+1):\n",
    "        new_dir = os.path.join(d_final, folder_name+'_'+str(j))\n",
    "        os.mkdir(new_dir)\n",
    "        print(\"Enterd->\",new_dir)\n",
    "        \n",
    "        k=1\n",
    "        for l in glob(i+\"/*\"):\n",
    "            \n",
    "            if k == number_of_slice+1:\n",
    "                break\n",
    "            #shutil.copy(l,new_dir)\n",
    "            shutil.move(l, new_dir)\n",
    "            k+=1\n",
    "    \n",
    "    "
   ]
  },
  {
   "cell_type": "markdown",
   "id": "3edd4943-ba59-4c76-81a2-112a155dfbfe",
   "metadata": {},
   "source": [
    "#Convert dicom to nifti"
   ]
  },
  {
   "cell_type": "code",
   "execution_count": 55,
   "id": "dd52385f-7a88-4cb8-9de2-c081c1b7bcf1",
   "metadata": {},
   "outputs": [
    {
     "name": "stdout",
     "output_type": "stream",
     "text": [
      "Requirement already satisfied: dicom2nifti in c:\\users\\razer\\anaconda3\\envs\\mamba\\lib\\site-packages (2.4.8)\n",
      "Requirement already satisfied: scipy in c:\\users\\razer\\anaconda3\\envs\\mamba\\lib\\site-packages (from dicom2nifti) (1.9.1)\n",
      "Requirement already satisfied: numpy in c:\\users\\razer\\anaconda3\\envs\\mamba\\lib\\site-packages (from dicom2nifti) (1.24.2)\n",
      "Requirement already satisfied: python-gdcm in c:\\users\\razer\\anaconda3\\envs\\mamba\\lib\\site-packages (from dicom2nifti) (3.0.21)\n",
      "Requirement already satisfied: pydicom>=2.2.0 in c:\\users\\razer\\anaconda3\\envs\\mamba\\lib\\site-packages (from dicom2nifti) (2.3.1)\n",
      "Requirement already satisfied: nibabel in c:\\users\\razer\\anaconda3\\envs\\mamba\\lib\\site-packages (from dicom2nifti) (5.0.1)\n",
      "Requirement already satisfied: packaging>=17 in c:\\users\\razer\\anaconda3\\envs\\mamba\\lib\\site-packages (from nibabel->dicom2nifti) (23.0)\n",
      "Requirement already satisfied: setuptools in c:\\users\\razer\\anaconda3\\envs\\mamba\\lib\\site-packages (from nibabel->dicom2nifti) (65.6.3)\n"
     ]
    }
   ],
   "source": [
    "!pip install dicom2nifti"
   ]
  },
  {
   "cell_type": "code",
   "execution_count": 56,
   "id": "b5b0196c-d4dd-420a-adb5-78b7fe219851",
   "metadata": {},
   "outputs": [],
   "source": [
    "import dicom2nifti as dn"
   ]
  },
  {
   "cell_type": "code",
   "execution_count": 61,
   "id": "650edbd4-8459-4804-991a-825ede0a1454",
   "metadata": {},
   "outputs": [],
   "source": [
    "dicom_path = \"C:/Users/RAZER/Desktop/small_data_spleehen/dicom_final/images/*\"\n",
    "nifti_path = \"C:/Users/RAZER/Desktop/small_data_spleehen/nifti_initial/images\" "
   ]
  },
  {
   "cell_type": "code",
   "execution_count": 64,
   "id": "4dafdac6-493f-4cae-85a9-814b07a0c678",
   "metadata": {},
   "outputs": [
    {
     "name": "stdout",
     "output_type": "stream",
     "text": [
      "['C:/Users/RAZER/Desktop/small_data_spleehen/dicom_final/labels\\\\label_sleephen_2_1', 'C:/Users/RAZER/Desktop/small_data_spleehen/dicom_final/labels\\\\label_sleephen_2_2', 'C:/Users/RAZER/Desktop/small_data_spleehen/dicom_final/labels\\\\label_sleephen_3_1']\n",
      "label_sleephen_2_1\n",
      "label_sleephen_2_2\n",
      "label_sleephen_3_1\n"
     ]
    }
   ],
   "source": [
    "file_list = glob(dicom_path)\n",
    "print(file_list)\n",
    "\n",
    "for i in file_list:\n",
    "    folder_name = os.path.basename(os.path.normpath(i))\n",
    "    print(folder_name)\n",
    "    \n",
    "    dn.dicom_series_to_nifti(i,os.path.join(nifti_path,folder_name + \".nii.gz\"))\n",
    "    "
   ]
  },
  {
   "cell_type": "code",
   "execution_count": 63,
   "id": "1bafc8ae-7027-4aba-a49b-25a8b3911f37",
   "metadata": {},
   "outputs": [],
   "source": [
    "dicom_path = \"C:/Users/RAZER/Desktop/small_data_spleehen/dicom_final/labels/*\"\n",
    "nifti_path = \"C:/Users/RAZER/Desktop/small_data_spleehen/nifti_initial/labels\""
   ]
  },
  {
   "cell_type": "markdown",
   "id": "9a432a2d-6308-4903-8b3c-8fc54f255134",
   "metadata": {},
   "source": [
    "#Find NULL"
   ]
  },
  {
   "cell_type": "code",
   "execution_count": 67,
   "id": "73c3635f-8422-4879-83c3-5b1430acc502",
   "metadata": {},
   "outputs": [
    {
     "name": "stdout",
     "output_type": "stream",
     "text": [
      "Requirement already satisfied: nibabel in c:\\users\\razer\\anaconda3\\envs\\mamba\\lib\\site-packages (5.0.1)\n",
      "Requirement already satisfied: numpy>=1.19 in c:\\users\\razer\\anaconda3\\envs\\mamba\\lib\\site-packages (from nibabel) (1.24.2)\n",
      "Requirement already satisfied: setuptools in c:\\users\\razer\\anaconda3\\envs\\mamba\\lib\\site-packages (from nibabel) (65.6.3)\n",
      "Requirement already satisfied: packaging>=17 in c:\\users\\razer\\anaconda3\\envs\\mamba\\lib\\site-packages (from nibabel) (23.0)\n"
     ]
    }
   ],
   "source": [
    "!pip install nibabel"
   ]
  },
  {
   "cell_type": "code",
   "execution_count": 68,
   "id": "d2fcdbce-9eda-4dcd-beca-cb620a42d072",
   "metadata": {},
   "outputs": [],
   "source": [
    "import nibabel as nb\n",
    "import numpy as np"
   ]
  },
  {
   "cell_type": "code",
   "execution_count": 69,
   "id": "e4c9e3a5-0e4e-44a9-878c-400aec94b910",
   "metadata": {},
   "outputs": [],
   "source": [
    "path_of = \"C:/Users\\RAZER/Desktop/small_data_spleehen/nifti_initial/labels/*\""
   ]
  },
  {
   "cell_type": "code",
   "execution_count": 77,
   "id": "8c61c3d8-411d-421a-b1f9-e1bf3da8c87d",
   "metadata": {},
   "outputs": [
    {
     "name": "stdout",
     "output_type": "stream",
     "text": [
      "C:/Users\\RAZER/Desktop/small_data_spleehen/nifti_initial/labels\\label_sleephen_2_1.nii.gz\n",
      "[0.]\n",
      "C:/Users\\RAZER/Desktop/small_data_spleehen/nifti_initial/labels\\label_sleephen_2_2.nii.gz\n",
      "[0. 1.]\n",
      "C:/Users\\RAZER/Desktop/small_data_spleehen/nifti_initial/labels\\label_sleephen_3_1.nii.gz\n",
      "[0. 1.]\n"
     ]
    }
   ],
   "source": [
    "list_of_null = []\n",
    "\n",
    "for i in glob(path_of):\n",
    "    print(i)\n",
    "    nifti_file = nb.load(i)\n",
    "    \n",
    "    frame_data = nifti_file.get_fdata()\n",
    "    #print(frame_data)\n",
    "    \n",
    "    uniq = np.unique(frame_data)\n",
    "    print(uniq)\n",
    "    if len(uniq) == 1:\n",
    "        list_of_null.append(os.path.basename(os.path.normpath(i)))"
   ]
  },
  {
   "cell_type": "code",
   "execution_count": 78,
   "id": "2300d6ef-0cea-4642-b87a-eae4c36acd29",
   "metadata": {},
   "outputs": [
    {
     "name": "stdout",
     "output_type": "stream",
     "text": [
      "['label_sleephen_2_1.nii.gz']\n"
     ]
    }
   ],
   "source": [
    "print(list_of_null)"
   ]
  },
  {
   "cell_type": "code",
   "execution_count": null,
   "id": "e8d9b004-8b05-4b73-a1f0-f64879d2b8b9",
   "metadata": {},
   "outputs": [],
   "source": []
  }
 ],
 "metadata": {
  "kernelspec": {
   "display_name": "Python 3 (ipykernel)",
   "language": "python",
   "name": "python3"
  },
  "language_info": {
   "codemirror_mode": {
    "name": "ipython",
    "version": 3
   },
   "file_extension": ".py",
   "mimetype": "text/x-python",
   "name": "python",
   "nbconvert_exporter": "python",
   "pygments_lexer": "ipython3",
   "version": "3.9.16"
  }
 },
 "nbformat": 4,
 "nbformat_minor": 5
}
