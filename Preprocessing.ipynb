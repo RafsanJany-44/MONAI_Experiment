{
 "cells": [
  {
   "cell_type": "code",
   "execution_count": 2,
   "id": "714d0587-d984-4108-a898-467751b8d0cf",
   "metadata": {},
   "outputs": [
    {
     "name": "stdout",
     "output_type": "stream",
     "text": [
      "Requirement already satisfied: monai in c:\\users\\razer\\anaconda3\\envs\\mamba\\lib\\site-packages (0.6.0)\n",
      "Requirement already satisfied: numpy>=1.17 in c:\\users\\razer\\anaconda3\\envs\\mamba\\lib\\site-packages (from monai) (1.24.2)\n",
      "Requirement already satisfied: torch>=1.5 in c:\\users\\razer\\anaconda3\\envs\\mamba\\lib\\site-packages (from monai) (1.13.1)\n",
      "Requirement already satisfied: typing-extensions in c:\\users\\razer\\anaconda3\\envs\\mamba\\lib\\site-packages (from torch>=1.5->monai) (4.4.0)\n"
     ]
    }
   ],
   "source": [
    "!pip install monai"
   ]
  },
  {
   "cell_type": "code",
   "execution_count": 3,
   "id": "79dbfdb2-6af3-4819-8c91-660e50014a45",
   "metadata": {},
   "outputs": [
    {
     "name": "stdout",
     "output_type": "stream",
     "text": [
      "Requirement already satisfied: glob2 in c:\\users\\razer\\anaconda3\\envs\\mamba\\lib\\site-packages (0.7)\n"
     ]
    }
   ],
   "source": [
    "!pip install glob2"
   ]
  },
  {
   "cell_type": "code",
   "execution_count": 2,
   "id": "f95cc1e1-6a24-4ef4-a7c7-ed6c402af6bc",
   "metadata": {},
   "outputs": [],
   "source": [
    "import os\n",
    "from glob import glob"
   ]
  },
  {
   "cell_type": "code",
   "execution_count": 10,
   "id": "bbf59280-9e30-4ca2-96bf-263811791e95",
   "metadata": {},
   "outputs": [],
   "source": [
    "data_dir = \"C:/Users/RAZER/Desktop/Task09_Spleen/Task09_Spleen\"\n",
    "\n",
    "train_images = sorted(glob(os.path.join(data_dir, 'imagesTr' ,\"*.nii.gz\")))\n",
    "test_images = sorted(glob(os.path.join(data_dir, 'imagesTs',\"*.nii.gz\")))\n",
    "\n",
    "train_labels = sorted(glob(os.path.join(data_dir, 'lablesTr',\"*.nii.gz\")))\n",
    "test_labels = sorted(glob(os.path.join(data_dir, 'labelsTs',\"*.nii.gz\")))"
   ]
  },
  {
   "cell_type": "code",
   "execution_count": null,
   "id": "cdb4ed40-136f-4480-9695-02d5d66d71c9",
   "metadata": {},
   "outputs": [],
   "source": [
    "train_files = [{\"images\": image_name,\n",
    "                \"labels\" : label_name\n",
    "               }]"
   ]
  }
 ],
 "metadata": {
  "kernelspec": {
   "display_name": "Python 3 (ipykernel)",
   "language": "python",
   "name": "python3"
  },
  "language_info": {
   "codemirror_mode": {
    "name": "ipython",
    "version": 3
   },
   "file_extension": ".py",
   "mimetype": "text/x-python",
   "name": "python",
   "nbconvert_exporter": "python",
   "pygments_lexer": "ipython3",
   "version": "3.9.16"
  }
 },
 "nbformat": 4,
 "nbformat_minor": 5
}
